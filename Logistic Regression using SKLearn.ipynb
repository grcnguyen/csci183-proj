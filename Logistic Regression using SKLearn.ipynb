{
 "cells": [
  {
   "cell_type": "code",
   "execution_count": 2,
   "metadata": {
    "collapsed": true
   },
   "outputs": [],
   "source": [
    "%matplotlib inline\n",
    "\n",
    "# Basic\n",
    "import io\n",
    "import math\n",
    "import numpy as np\n",
    "import pandas as pd\n",
    "import statsmodels.api as sm\n",
    "import matplotlib.pyplot as plt\n",
    "from patsy import dmatrices\n",
    "\n",
    "# SKLearn\n",
    "from sklearn.linear_model import LogisticRegression\n",
    "from sklearn.cross_validation import train_test_split\n",
    "from sklearn import metrics\n",
    "from sklearn.cross_validation import cross_val_score\n",
    "\n",
    "# NLTK\n",
    "from nltk.corpus import stopwords\n",
    "from nltk.stem.snowball import SnowballStemmer"
   ]
  },
  {
   "cell_type": "code",
   "execution_count": 3,
   "metadata": {
    "collapsed": true
   },
   "outputs": [],
   "source": [
    "data = pd.read_csv(\"training-data/spamcollectiondata.tsv\", sep='\\t', names = [\"Category\", \"Message\"])"
   ]
  },
  {
   "cell_type": "code",
   "execution_count": 4,
   "metadata": {
    "collapsed": false
   },
   "outputs": [
    {
     "data": {
      "text/html": [
       "<div>\n",
       "<table border=\"1\" class=\"dataframe\">\n",
       "  <thead>\n",
       "    <tr style=\"text-align: right;\">\n",
       "      <th></th>\n",
       "      <th>Category</th>\n",
       "      <th>Message</th>\n",
       "    </tr>\n",
       "  </thead>\n",
       "  <tbody>\n",
       "    <tr>\n",
       "      <th>0</th>\n",
       "      <td>ham</td>\n",
       "      <td>Go until jurong point, crazy.. Available only ...</td>\n",
       "    </tr>\n",
       "    <tr>\n",
       "      <th>1</th>\n",
       "      <td>ham</td>\n",
       "      <td>Ok lar... Joking wif u oni...</td>\n",
       "    </tr>\n",
       "    <tr>\n",
       "      <th>2</th>\n",
       "      <td>spam</td>\n",
       "      <td>Free entry in 2 a wkly comp to win FA Cup fina...</td>\n",
       "    </tr>\n",
       "    <tr>\n",
       "      <th>3</th>\n",
       "      <td>ham</td>\n",
       "      <td>U dun say so early hor... U c already then say...</td>\n",
       "    </tr>\n",
       "    <tr>\n",
       "      <th>4</th>\n",
       "      <td>ham</td>\n",
       "      <td>Nah I don't think he goes to usf, he lives aro...</td>\n",
       "    </tr>\n",
       "  </tbody>\n",
       "</table>\n",
       "</div>"
      ],
      "text/plain": [
       "  Category                                            Message\n",
       "0      ham  Go until jurong point, crazy.. Available only ...\n",
       "1      ham                      Ok lar... Joking wif u oni...\n",
       "2     spam  Free entry in 2 a wkly comp to win FA Cup fina...\n",
       "3      ham  U dun say so early hor... U c already then say...\n",
       "4      ham  Nah I don't think he goes to usf, he lives aro..."
      ]
     },
     "execution_count": 4,
     "metadata": {},
     "output_type": "execute_result"
    }
   ],
   "source": [
    "data.head()"
   ]
  },
  {
   "cell_type": "markdown",
   "metadata": {},
   "source": [
    "### Comparing freq of capital letters"
   ]
  },
  {
   "cell_type": "code",
   "execution_count": 18,
   "metadata": {
    "collapsed": false
   },
   "outputs": [
    {
     "data": {
      "image/png": "[encoded data removed]",
      "text/plain": [
       "<matplotlib.figure.Figure at 0x11a4f9c18>"
      ]
     },
     "metadata": {},
     "output_type": "display_data"
    }
   ],
   "source": [
    "ham_caps = []\n",
    "spam_caps = []\n",
    "\n",
    "for index,row in data.iterrows():\n",
    "    if row.Category == 'ham':\n",
    "        ham_caps.append(sum(1.0 for c in row.Message if c.isupper())/sum(1.0 for c in row.Message))\n",
    "    else:\n",
    "        spam_caps.append(sum(1.0 for c in row.Message if c.isupper())/sum(1.0 for c in row.Message))\n",
    "\n",
    "        \n",
    "ham_weight = np.ones_like(ham_caps)/len(ham_caps)\n",
    "spam_weight = np.ones_like(spam_caps)/len(spam_caps)\n",
    "\n",
    "fig, ax = plt.subplots()\n",
    "ax.hist(ham_caps,weights=ham_weight,color='b',alpha=0.5,label='Ham')\n",
    "ax.hist(spam_caps,weights=spam_weight,color='g',alpha=0.5,label='Spam')\n",
    "ax.set(title='Freq. of Capital Letters')\n",
    "plt.legend()\n",
    "plt.show()    "
   ]
  },
  {
   "cell_type": "markdown",
   "metadata": {},
   "source": [
    "### Comparing freq of numbers"
   ]
  },
  {
   "cell_type": "code",
   "execution_count": 19,
   "metadata": {
    "collapsed": false
   },
   "outputs": [
    {
     "data": {
      "image/png": "[encoded data removed]",
      "text/plain": [
       "<matplotlib.figure.Figure at 0x11b3199e8>"
      ]
     },
     "metadata": {},
     "output_type": "display_data"
    }
   ],
   "source": [
    "ham_nums = []\n",
    "spam_nums = []\n",
    "\n",
    "for index,row in data.iterrows():\n",
    "    if row.Category == 'ham':\n",
    "        ham_nums.append(sum(1.0 for c in row.Message if c.isdigit())/sum(1.0 for c in row.Message))\n",
    "    else:\n",
    "        spam_nums.append(sum(1.0 for c in row.Message if c.isdigit())/sum(1.0 for c in row.Message))\n",
    "\n",
    "        \n",
    "ham_weight = np.ones_like(ham_nums)/len(ham_nums)\n",
    "spam_weight = np.ones_like(spam_nums)/len(spam_nums)\n",
    "\n",
    "fig, ax = plt.subplots()\n",
    "ax.hist(ham_nums,weights=ham_weight,color='r',alpha=0.5,label='Ham')\n",
    "ax.hist(spam_nums,weights=spam_weight,color='y',alpha=0.5,label='Spam')\n",
    "ax.set(title='Freq. of Numbers')\n",
    "plt.legend()\n",
    "plt.show() "
   ]
  },
  {
   "cell_type": "code",
   "execution_count": 24,
   "metadata": {
    "collapsed": false
   },
   "outputs": [],
   "source": [
    "message_data = [word.lower() for word in data['Message']]\n",
    "category = data['Category'].tolist()\n",
    "stop = set(stopwords.words('english'))\n",
    "stemmer = SnowballStemmer('english')\n",
    "training_set = []\n",
    "i = 0\n",
    "for message in message_data:\n",
    "    sentence = message.split(\" \")\n",
    "    filtered = []\n",
    "    pr = []\n",
    "    for word in sentence:\n",
    "        if word.lower() not in stop:\n",
    "            stemmed = stemmer.stem(word)\n",
    "            filtered.append(stemmed)\n",
    "    pr.append(filtered)\n",
    "    pr.append(category[i])\n",
    "    training_set.append(pr)\n",
    "    i = i+1\n",
    "    \n",
    "train_df = pd.DataFrame(training_set)\n",
    "train_df.columns = ['Lists','Labels']\n",
    "train_df.head()\n",
    "y = np.array(train_df.Labels)\n",
    "\n",
    "for i in range(len(y)):\n",
    "    if y[i] == 'ham':\n",
    "        y[i] = 1\n",
    "    else:\n",
    "        y[i] = 0\n",
    "        \n",
    "y = np.ravel(y)"
   ]
  },
  {
   "cell_type": "code",
   "execution_count": 25,
   "metadata": {
    "collapsed": false
   },
   "outputs": [],
   "source": [
    "def list_to_dict(words_list):\n",
    "  return dict([(word, True) for word in words_list])\n",
    " \n",
    "training_set_formatted = [(list_to_dict(element[0]), element[1]) for element in training_set]\n",
    "\n",
    "def generate_words_vector(training_set):\n",
    "    words_vector = [] \n",
    "    for review in training_set:\n",
    "        for word in review[0]:\n",
    "            if word not in words_vector: words_vector.append(word) \n",
    "    return words_vector\n",
    "\n",
    "def generate_X_matrix(training_set, words_vector):\n",
    "    no_reviews = len(training_set)\n",
    "    no_words = len(words_vector)\n",
    "    X = np.zeros(shape=(no_reviews, no_words+1))\n",
    "    for ii in range(0,no_reviews):\n",
    "        X[ii][0] = 1\n",
    "        review_text = training_set[ii][0]\n",
    "        total_words_in_review = len(review_text)\n",
    "        rt = list(review_text)\n",
    "        for word in rt:\n",
    "            word_occurences = rt.count(word)\n",
    "            word_index = words_vector.index(word)+1\n",
    "            X[ii][word_index] = word_occurences / float(total_words_in_review)\n",
    "    return X\n",
    "\n",
    "words_vector = generate_words_vector(training_set_formatted)\n",
    "X = np.array(generate_X_matrix(training_set_formatted, words_vector))"
   ]
  },
  {
   "cell_type": "code",
   "execution_count": 8,
   "metadata": {
    "collapsed": false
   },
   "outputs": [
    {
     "name": "stdout",
     "output_type": "stream",
     "text": [
      "0.8659368269921034\n"
     ]
    }
   ],
   "source": [
    "# What percentage is ham?\n",
    "print(y.mean())"
   ]
  },
  {
   "cell_type": "code",
   "execution_count": 92,
   "metadata": {
    "collapsed": false
   },
   "outputs": [
    {
     "data": {
      "text/plain": [
       "LogisticRegression(C=1.0, class_weight=None, dual=False, fit_intercept=True,\n",
       "          intercept_scaling=1, max_iter=100, multi_class='ovr', n_jobs=1,\n",
       "          penalty='l2', random_state=None, solver='liblinear', tol=0.0001,\n",
       "          verbose=0, warm_start=False)"
      ]
     },
     "execution_count": 92,
     "metadata": {},
     "output_type": "execute_result"
    }
   ],
   "source": [
    "X_train, X_test, y_train, y_test = train_test_split(X, train_df.Labels, test_size=0.5, random_state=1)\n",
    "model = LogisticRegression()\n",
    "model.fit(X_train,y_train)"
   ]
  },
  {
   "cell_type": "code",
   "execution_count": 94,
   "metadata": {
    "collapsed": false
   },
   "outputs": [
    {
     "name": "stdout",
     "output_type": "stream",
     "text": [
      "     Actual  Predicted  Prob is Ham  Prob is Spam\n",
      "2434      0          1     0.464386      0.535614 \n",
      "\n",
      "  Actual  Predicted  Prob is Ham  Prob is Spam\n",
      "0      0          0     0.865463      0.134537\n",
      "1      0          0     0.898919      0.101081\n",
      "2      1          0     0.860582      0.139418\n",
      "3      0          0     0.859309      0.140691\n",
      "4      0          0     0.876628      0.123372\n"
     ]
    }
   ],
   "source": [
    "probs = model.predict_proba(X_test)\n",
    "\n",
    "predicted = model.predict(X_test)\n",
    "\n",
    "act = 1 - y[:len(predicted)]\n",
    "pred = []\n",
    "\n",
    "for result in predicted:\n",
    "    if result == 'spam':\n",
    "        pred.append(1)\n",
    "    else:\n",
    "        pred.append(0)\n",
    "        \n",
    "# 1 is spam, 0 is ham\n",
    "compare = pd.DataFrame({'Actual':act,'Predicted':pred,\n",
    "                       'Prob is Ham':probs[:,0],\n",
    "                       'Prob is Spam':probs[:,1]})\n",
    "\n",
    "print(compare[compare['Prob is Spam']>=0.5].head(),'\\n')\n",
    "print(compare.head())\n",
    "\n",
    "compare.to_csv('log_reg_output.csv',sep=',')"
   ]
  },
  {
   "cell_type": "code",
   "execution_count": 12,
   "metadata": {
    "collapsed": false
   },
   "outputs": [
    {
     "name": "stdout",
     "output_type": "stream",
     "text": [
      "0.862167982771\n"
     ]
    }
   ],
   "source": [
    "print(metrics.accuracy_score(y_test,predicted))"
   ]
  },
  {
   "cell_type": "code",
   "execution_count": 18,
   "metadata": {
    "collapsed": false
   },
   "outputs": [
    {
     "name": "stdout",
     "output_type": "stream",
     "text": [
      "[[2402    1]\n",
      " [ 383    0]]\n",
      "             precision    recall  f1-score   support\n",
      "\n",
      "        ham       0.86      1.00      0.93      2403\n",
      "       spam       0.00      0.00      0.00       383\n",
      "\n",
      "avg / total       0.74      0.86      0.80      2786\n",
      "\n"
     ]
    }
   ],
   "source": [
    "print(metrics.confusion_matrix(y_test,predicted))\n",
    "print(metrics.classification_report(y_test,predicted))"
   ]
  },
  {
   "cell_type": "code",
   "execution_count": 13,
   "metadata": {
    "collapsed": false
   },
   "outputs": [
    {
     "name": "stdout",
     "output_type": "stream",
     "text": [
      "       Labels\n",
      "count    1672\n",
      "unique      2\n",
      "top       ham\n",
      "freq     1451\n"
     ]
    }
   ],
   "source": [
    "print(pd.DataFrame(y_test).describe())"
   ]
  },
  {
   "cell_type": "code",
   "execution_count": 14,
   "metadata": {
    "collapsed": false
   },
   "outputs": [
    {
     "name": "stdout",
     "output_type": "stream",
     "text": [
      "0.867822966507177 0.9982057416267942\n"
     ]
    }
   ],
   "source": [
    "# Comparing Ratio of Spam/Ham to Model's Ratio of \n",
    "print(1451.0/1672,1669.0/1672)"
   ]
  },
  {
   "cell_type": "code",
   "execution_count": 32,
   "metadata": {
    "collapsed": false
   },
   "outputs": [
    {
     "name": "stdout",
     "output_type": "stream",
     "text": [
      "2     Free entry in 2 a wkly comp to win FA Cup fina...\n",
      "5     FreeMsg Hey there darling it's been 3 week's n...\n",
      "8     WINNER!! As a valued network customer you have...\n",
      "9     Had your mobile 11 months or more? U R entitle...\n",
      "11    SIX chances to win CASH! From 100 to 20,000 po...\n",
      "Name: Message, dtype: object\n"
     ]
    }
   ],
   "source": [
    "print(data[data.Category=='spam'].Message.head())"
   ]
  },
  {
   "cell_type": "markdown",
   "metadata": {},
   "source": [
    "### Testing Our Model"
   ]
  },
  {
   "cell_type": "code",
   "execution_count": null,
   "metadata": {
    "collapsed": true
   },
   "outputs": [],
   "source": [
    "test_phrase_1 = \"lt gt go come ok love\"\n",
    "test_phrase_2 = \"call free mobil co.uk\""
   ]
  },
  {
   "cell_type": "code",
   "execution_count": 91,
   "metadata": {
    "collapsed": false
   },
   "outputs": [],
   "source": [
    "arr_1 = np.zeros(len(X[0]))\n",
    "arr_2 = np.zeros(len(X[0]))\n",
    "\n",
    "for ii in range(len(test_phrase_1.split())):\n",
    "    review_text = test_phrase_1.split()\n",
    "    total_words_in_review = len(review_text)\n",
    "    rt = list(review_text)\n",
    "    for word in rt:\n",
    "        word_occurences = rt.count(word)\n",
    "        if word in words_vector:\n",
    "            word_index = words_vector.index(word)+1\n",
    "            arr_1[word_index] = word_occurences / float(total_words_in_review)\n",
    "\n",
    "for ii in range(len(test_phrase_2.split())):\n",
    "    review_text = test_phrase_2.split()\n",
    "    total_words_in_review = len(review_text)\n",
    "    rt = list(review_text)\n",
    "    for word in rt:\n",
    "        word_occurences = rt.count(word)\n",
    "        if word in words_vector:\n",
    "            word_index = words_vector.index(word)+1\n",
    "            arr_2[word_index] = word_occurences / float(total_words_in_review)\n",
    "            \n",
    "arr_1[0] = 1\n",
    "arr_2[0] = 1\n",
    "\n",
    "pct_1 = model.predict_proba(arr_1.reshape(1,-1))[0][0]*100\n",
    "pct_2 = model.predict_proba(arr_2.reshape(1,-1))[0][0]*100\n",
    "\n",
    "###########################\n",
    "\n",
    "result_1 = result_2 = 'SPAM'\n",
    "\n",
    "if(pct_1>50):\n",
    "    result_1 = 'HAM'\n",
    "if(pct_2>50):\n",
    "    result_2 = 'HAM'    "
   ]
  },
  {
   "cell_type": "code",
   "execution_count": 92,
   "metadata": {
    "collapsed": false
   },
   "outputs": [
    {
     "name": "stdout",
     "output_type": "stream",
     "text": [
      "\"call free mobil co.uk\" --> SPAM \n",
      "\t45.6% Ham / 54.4% Spam. \n",
      "\n",
      "\"Hi Hows it going!\" --> HAM \n",
      "\t87.4% Ham / 12.6% Spam.\n"
     ]
    }
   ],
   "source": [
    "print(\"\\\"{}\\\" --> {} \\n\\t{}% Ham / {}% Spam.\".format(test_phrase_1,result_1,round(pct_1,1),round(100-pct_1,1)),\"\\n\")\n",
    "print(\"\\\"{}\\\" --> {} \\n\\t{}% Ham / {}% Spam.\".format(test_phrase_2,result_2,round(pct_2,1),round(100-pct_2,1)))"
   ]
  },
  {
   "cell_type": "code",
   "execution_count": null,
   "metadata": {
    "collapsed": true
   },
   "outputs": [],
   "source": []
  }
 ],
 "metadata": {
  "anaconda-cloud": {},
  "kernelspec": {
   "display_name": "Python [default]",
   "language": "python",
   "name": "python3"
  },
  "language_info": {
   "codemirror_mode": {
    "name": "ipython",
    "version": 3
   },
   "file_extension": ".py",
   "mimetype": "text/x-python",
   "name": "python",
   "nbconvert_exporter": "python",
   "pygments_lexer": "ipython3",
   "version": "3.5.2"
  }
 },
 "nbformat": 4,
 "nbformat_minor": 1
}
