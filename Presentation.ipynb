{
 "cells": [
  {
   "cell_type": "markdown",
   "metadata": {
    "slideshow": {
     "slide_type": "slide"
    }
   },
   "source": [
    "# Spam Filtering for Short Messages\n",
    "## Data Science CSCI 183\n",
    "### Ryan Johnson, Grace Nguyen, and Raya Young\n",
    "Spring 2017 <br>\n",
    "Professor Manna"
   ]
  },
  {
   "cell_type": "markdown",
   "metadata": {
    "slideshow": {
     "slide_type": "slide"
    }
   },
   "source": [
    "### Abstract\n",
    "Spam messages are annoying! <br>\n",
    "What if there was a way to stop getting annoying spam messages altogether, without losing any important messages? <br>\n",
    "We have used Logistic Regression and Gradient Descent to automatically detect spam messages so you don't have to take time out of your busy day to delete it."
   ]
  },
  {
   "cell_type": "markdown",
   "metadata": {
    "collapsed": true
   },
   "source": [
    "Input: A short text message or email notification <br>\n",
    "Output: Our algorithm will classify this message as either spam or not spam (ham)"
   ]
  },
  {
   "cell_type": "markdown",
   "metadata": {},
   "source": [
    "### Training Phase\n",
    "Training Data: List of messages already classified as either spam or ham <br>\n",
    "Used Gradient Descent to train the algorithm and create a decision boundary based on which words are more closely associated with spam or ham <br>"
   ]
  },
  {
   "cell_type": "markdown",
   "metadata": {},
   "source": [
    "### Test Phase\n",
    "Test Data: List of unclassified messages"
   ]
  },
  {
   "cell_type": "code",
   "execution_count": null,
   "metadata": {
    "collapsed": true
   },
   "outputs": [],
   "source": []
  }
 ],
 "metadata": {
  "celltoolbar": "Slideshow",
  "kernelspec": {
   "display_name": "Python 3",
   "language": "python",
   "name": "python3"
  },
  "language_info": {
   "codemirror_mode": {
    "name": "ipython",
    "version": 3
   },
   "file_extension": ".py",
   "mimetype": "text/x-python",
   "name": "python",
   "nbconvert_exporter": "python",
   "pygments_lexer": "ipython3",
   "version": "3.5.2"
  }
 },
 "nbformat": 4,
 "nbformat_minor": 2
}
